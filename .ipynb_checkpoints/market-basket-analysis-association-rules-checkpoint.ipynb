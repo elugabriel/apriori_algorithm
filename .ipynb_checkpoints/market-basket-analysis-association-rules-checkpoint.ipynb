{
 "cells": [
  {
   "cell_type": "markdown",
   "metadata": {},
   "source": [
    "# Importing the Libraries"
   ]
  },
  {
   "cell_type": "code",
   "execution_count": null,
   "metadata": {
    "execution": {
     "iopub.execute_input": "2023-05-18T20:15:14.854303Z",
     "iopub.status.busy": "2023-05-18T20:15:14.853537Z",
     "iopub.status.idle": "2023-05-18T20:15:14.865961Z",
     "shell.execute_reply": "2023-05-18T20:15:14.864806Z",
     "shell.execute_reply.started": "2023-05-18T20:15:14.854263Z"
    }
   },
   "outputs": [],
   "source": [
    "import pandas as pd\n",
    "import numpy as np\n",
    "import warnings\n",
    "warnings.filterwarnings('ignore')"
   ]
  },
  {
   "cell_type": "markdown",
   "metadata": {},
   "source": [
    "# Data importing"
   ]
  },
  {
   "cell_type": "code",
   "execution_count": null,
   "metadata": {},
   "outputs": [],
   "source": [
    "data=pd.read_csv('/kaggle/input/supermarket/GroceryStoreDataSet.csv')\n",
    "data"
   ]
  },
  {
   "cell_type": "markdown",
   "metadata": {},
   "source": [
    "# Data Describe"
   ]
  },
  {
   "cell_type": "code",
   "execution_count": null,
   "metadata": {
    "execution": {
     "iopub.execute_input": "2023-05-18T20:15:14.896101Z",
     "iopub.status.busy": "2023-05-18T20:15:14.89566Z",
     "iopub.status.idle": "2023-05-18T20:15:14.922183Z",
     "shell.execute_reply": "2023-05-18T20:15:14.921131Z",
     "shell.execute_reply.started": "2023-05-18T20:15:14.896063Z"
    }
   },
   "outputs": [],
   "source": [
    "data.info()"
   ]
  },
  {
   "cell_type": "code",
   "execution_count": null,
   "metadata": {
    "execution": {
     "iopub.execute_input": "2023-05-18T20:15:53.796043Z",
     "iopub.status.busy": "2023-05-18T20:15:53.79555Z",
     "iopub.status.idle": "2023-05-18T20:15:53.807634Z",
     "shell.execute_reply": "2023-05-18T20:15:53.806453Z",
     "shell.execute_reply.started": "2023-05-18T20:15:53.795994Z"
    }
   },
   "outputs": [],
   "source": [
    "df=data.copy()\n",
    "df"
   ]
  },
  {
   "cell_type": "code",
   "execution_count": null,
   "metadata": {
    "execution": {
     "iopub.execute_input": "2023-05-18T20:16:16.02202Z",
     "iopub.status.busy": "2023-05-18T20:16:16.02145Z",
     "iopub.status.idle": "2023-05-18T20:16:16.029525Z",
     "shell.execute_reply": "2023-05-18T20:16:16.02782Z",
     "shell.execute_reply.started": "2023-05-18T20:16:16.021977Z"
    }
   },
   "outputs": [],
   "source": [
    "data.columns=['items']"
   ]
  },
  {
   "cell_type": "code",
   "execution_count": null,
   "metadata": {
    "execution": {
     "iopub.execute_input": "2023-05-18T20:16:24.248291Z",
     "iopub.status.busy": "2023-05-18T20:16:24.247878Z",
     "iopub.status.idle": "2023-05-18T20:16:24.262769Z",
     "shell.execute_reply": "2023-05-18T20:16:24.260488Z",
     "shell.execute_reply.started": "2023-05-18T20:16:24.248251Z"
    }
   },
   "outputs": [],
   "source": [
    "data"
   ]
  },
  {
   "cell_type": "markdown",
   "metadata": {},
   "source": [
    "# Transaction Encoder"
   ]
  },
  {
   "cell_type": "code",
   "execution_count": null,
   "metadata": {
    "execution": {
     "iopub.execute_input": "2023-05-18T20:19:10.416069Z",
     "iopub.status.busy": "2023-05-18T20:19:10.415622Z",
     "iopub.status.idle": "2023-05-18T20:19:10.995059Z",
     "shell.execute_reply": "2023-05-18T20:19:10.993695Z",
     "shell.execute_reply.started": "2023-05-18T20:19:10.416035Z"
    }
   },
   "outputs": [],
   "source": [
    "from mlxtend.preprocessing import TransactionEncoder"
   ]
  },
  {
   "cell_type": "markdown",
   "metadata": {},
   "source": [
    "# Applying Algorithms"
   ]
  },
  {
   "cell_type": "markdown",
   "metadata": {},
   "source": [
    "# Apriori"
   ]
  },
  {
   "cell_type": "code",
   "execution_count": null,
   "metadata": {
    "execution": {
     "iopub.execute_input": "2023-05-18T20:20:49.290533Z",
     "iopub.status.busy": "2023-05-18T20:20:49.290134Z",
     "iopub.status.idle": "2023-05-18T20:20:49.306707Z",
     "shell.execute_reply": "2023-05-18T20:20:49.305147Z",
     "shell.execute_reply.started": "2023-05-18T20:20:49.290505Z"
    }
   },
   "outputs": [],
   "source": [
    "from mlxtend .frequent_patterns import apriori,association_rules"
   ]
  },
  {
   "cell_type": "code",
   "execution_count": null,
   "metadata": {
    "execution": {
     "iopub.execute_input": "2023-05-18T20:23:38.819001Z",
     "iopub.status.busy": "2023-05-18T20:23:38.818515Z",
     "iopub.status.idle": "2023-05-18T20:23:38.828185Z",
     "shell.execute_reply": "2023-05-18T20:23:38.826727Z",
     "shell.execute_reply.started": "2023-05-18T20:23:38.818966Z"
    }
   },
   "outputs": [],
   "source": [
    "transactions=[]\n",
    "items=data['items'].values\n",
    "print(items)\n",
    "for i in range (0,len(items)):\n",
    "    transactions.append(items[i].split(\",\"))\n",
    "    \n",
    "print(transactions)\n",
    "TE=TransactionEncoder()\n",
    "trans=TE.fit(transactions).transform(transactions)\n",
    "print(trans)"
   ]
  },
  {
   "cell_type": "code",
   "execution_count": null,
   "metadata": {
    "execution": {
     "iopub.execute_input": "2023-05-18T20:26:30.151294Z",
     "iopub.status.busy": "2023-05-18T20:26:30.150611Z",
     "iopub.status.idle": "2023-05-18T20:26:30.162447Z",
     "shell.execute_reply": "2023-05-18T20:26:30.161431Z",
     "shell.execute_reply.started": "2023-05-18T20:26:30.151253Z"
    }
   },
   "outputs": [],
   "source": [
    "dataTE=pd.DataFrame(data = trans, columns = TE.columns_, dtype = int)\n",
    "print(dataTE)"
   ]
  },
  {
   "cell_type": "code",
   "execution_count": null,
   "metadata": {
    "execution": {
     "iopub.execute_input": "2023-05-18T20:27:32.648682Z",
     "iopub.status.busy": "2023-05-18T20:27:32.648275Z",
     "iopub.status.idle": "2023-05-18T20:27:32.666762Z",
     "shell.execute_reply": "2023-05-18T20:27:32.665292Z",
     "shell.execute_reply.started": "2023-05-18T20:27:32.648653Z"
    }
   },
   "outputs": [],
   "source": [
    "dataTE.head(5)"
   ]
  },
  {
   "cell_type": "markdown",
   "metadata": {},
   "source": [
    "# support"
   ]
  },
  {
   "cell_type": "code",
   "execution_count": null,
   "metadata": {
    "execution": {
     "iopub.execute_input": "2023-05-18T20:30:20.15066Z",
     "iopub.status.busy": "2023-05-18T20:30:20.150188Z",
     "iopub.status.idle": "2023-05-18T20:30:20.18013Z",
     "shell.execute_reply": "2023-05-18T20:30:20.178754Z",
     "shell.execute_reply.started": "2023-05-18T20:30:20.150627Z"
    }
   },
   "outputs": [],
   "source": [
    "support=apriori(dataTE,min_support=0.2,use_colnames=True)\n",
    "support.sort_values(by = 'support', ascending = True)"
   ]
  },
  {
   "cell_type": "markdown",
   "metadata": {},
   "source": [
    "# confidence"
   ]
  },
  {
   "cell_type": "code",
   "execution_count": null,
   "metadata": {
    "execution": {
     "iopub.execute_input": "2023-05-18T20:30:50.514458Z",
     "iopub.status.busy": "2023-05-18T20:30:50.514023Z",
     "iopub.status.idle": "2023-05-18T20:30:50.554251Z",
     "shell.execute_reply": "2023-05-18T20:30:50.552772Z",
     "shell.execute_reply.started": "2023-05-18T20:30:50.514428Z"
    }
   },
   "outputs": [],
   "source": [
    "confidence = association_rules(support, metric = 'confidence', min_threshold = 0.2)\n",
    "confidence.sort_values(by = 'confidence', ascending = True)"
   ]
  }
 ],
 "metadata": {
  "kernelspec": {
   "display_name": "Python 3 (ipykernel)",
   "language": "python",
   "name": "python3"
  },
  "language_info": {
   "codemirror_mode": {
    "name": "ipython",
    "version": 3
   },
   "file_extension": ".py",
   "mimetype": "text/x-python",
   "name": "python",
   "nbconvert_exporter": "python",
   "pygments_lexer": "ipython3",
   "version": "3.10.9"
  }
 },
 "nbformat": 4,
 "nbformat_minor": 4
}
